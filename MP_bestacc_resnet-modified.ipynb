{
 "cells": [
  {
   "cell_type": "code",
   "execution_count": null,
   "id": "bead1d3c-d710-4074-b76c-c207a03f3780",
   "metadata": {},
   "outputs": [],
   "source": [
    "# install the required dependencies\n",
    "!pip install torch\n",
    "\n",
    "!pip install torchvision\n",
    "\n",
    "!pip install torchviz\n",
    "\n",
    "!pip install torchsummary\n",
    "\n",
    "!pip install tqdm\n",
    "\n",
    "!pip install matplotlib\n",
    "\n",
    "!pip install utils\n",
    "\n",
    "!pip install numpy\n",
    "\n",
    "!pip install pandas"
   ]
  },
  {
   "cell_type": "code",
   "execution_count": 2,
   "id": "057e4c6c-1271-4d38-9c4c-d5cf43a1c38b",
   "metadata": {},
   "outputs": [],
   "source": [
    "'''Train CIFAR10 with PyTorch.'''\n",
    "import torch\n",
    "\n",
    "import pickle\n",
    "\n",
    "import pandas as pd\n",
    "\n",
    "import torchviz\n",
    "\n",
    "import numpy as np\n",
    "\n",
    "from torch import *\n",
    "\n",
    "from torchvision import *\n",
    "\n",
    "from torch import nn\n",
    "from torch import optim\n",
    "import torch.nn.functional as F\n",
    "import torch.backends.cudnn as cudnn\n",
    "\n",
    "import torchvision\n",
    "import torchvision.transforms as transforms\n",
    "\n",
    "import os\n",
    "import argparse\n",
    "\n",
    "from torchsummary import summary\n",
    "\n",
    "from torch.nn.utils import (\n",
    "  parameters_to_vector as Params2Vec,\n",
    "  vector_to_parameters as Vec2Params\n",
    ")\n",
    "\n",
    "from tqdm import tqdm\n",
    "\n",
    "\n",
    "from torchvision import datasets, models\n",
    "import matplotlib.pyplot as plt\n",
    "\n",
    "from torchvision.models import *\n",
    "\n",
    "from torch.utils.data import DataLoader, TensorDataset, Dataset\n",
    "\n",
    "from torch.optim.lr_scheduler import CosineAnnealingLR\n"
   ]
  },
  {
   "cell_type": "code",
   "execution_count": 3,
   "id": "86278991-2c85-48c0-8c2a-6577e76ce69e",
   "metadata": {},
   "outputs": [
    {
     "data": {
      "text/plain": [
       "True"
      ]
     },
     "execution_count": 3,
     "metadata": {},
     "output_type": "execute_result"
    }
   ],
   "source": [
    "# check if gpu is available\n",
    "torch.cuda.is_available()"
   ]
  },
  {
   "cell_type": "code",
   "execution_count": 4,
   "id": "67c4c62a-e345-4609-894d-e54adae3862e",
   "metadata": {},
   "outputs": [
    {
     "name": "stderr",
     "output_type": "stream",
     "text": [
      "/state/partition1/job-45197628/ipykernel_2667656/1283630277.py:39: UserWarning: torch.range is deprecated and will be removed in a future release because its behavior is inconsistent with Python's range builtin. Instead, use torch.arange, which produces values in [start, end).\n",
      "  for i in range(1, blocks):\n"
     ]
    },
    {
     "name": "stdout",
     "output_type": "stream",
     "text": [
      "ResNet18(\n",
      "  (resnet): ResNet(\n",
      "    (conv1): Conv2d(3, 64, kernel_size=(7, 7), stride=(1, 1), padding=(3, 3), bias=False)\n",
      "    (bn1): BatchNorm2d(64, eps=1e-05, momentum=0.1, affine=True, track_running_stats=True)\n",
      "    (layer1): MakeLayer(\n",
      "      (layer): Sequential(\n",
      "        (0): BasicBlock(\n",
      "          (conv1): Conv2d(64, 64, kernel_size=(3, 3), stride=(1, 1), padding=(1, 1), bias=False)\n",
      "          (bn1): BatchNorm2d(64, eps=1e-05, momentum=0.1, affine=True, track_running_stats=True)\n",
      "          (conv2): Conv2d(64, 64, kernel_size=(3, 3), stride=(1, 1), padding=(1, 1), bias=False)\n",
      "          (bn2): BatchNorm2d(64, eps=1e-05, momentum=0.1, affine=True, track_running_stats=True)\n",
      "          (relu): ReLU(inplace=True)\n",
      "          (dropout): Dropout(p=0.4, inplace=False)\n",
      "          (shortcut): Sequential()\n",
      "        )\n",
      "        (1): BasicBlock(\n",
      "          (conv1): Conv2d(64, 64, kernel_size=(3, 3), stride=(1, 1), padding=(1, 1), bias=False)\n",
      "          (bn1): BatchNorm2d(64, eps=1e-05, momentum=0.1, affine=True, track_running_stats=True)\n",
      "          (conv2): Conv2d(64, 64, kernel_size=(3, 3), stride=(1, 1), padding=(1, 1), bias=False)\n",
      "          (bn2): BatchNorm2d(64, eps=1e-05, momentum=0.1, affine=True, track_running_stats=True)\n",
      "          (relu): ReLU(inplace=True)\n",
      "          (dropout): Dropout(p=0.4, inplace=False)\n",
      "          (shortcut): Sequential()\n",
      "        )\n",
      "        (2): BasicBlock(\n",
      "          (conv1): Conv2d(64, 64, kernel_size=(3, 3), stride=(1, 1), padding=(1, 1), bias=False)\n",
      "          (bn1): BatchNorm2d(64, eps=1e-05, momentum=0.1, affine=True, track_running_stats=True)\n",
      "          (conv2): Conv2d(64, 64, kernel_size=(3, 3), stride=(1, 1), padding=(1, 1), bias=False)\n",
      "          (bn2): BatchNorm2d(64, eps=1e-05, momentum=0.1, affine=True, track_running_stats=True)\n",
      "          (relu): ReLU(inplace=True)\n",
      "          (dropout): Dropout(p=0.4, inplace=False)\n",
      "          (shortcut): Sequential()\n",
      "        )\n",
      "        (3): BasicBlock(\n",
      "          (conv1): Conv2d(64, 64, kernel_size=(3, 3), stride=(1, 1), padding=(1, 1), bias=False)\n",
      "          (bn1): BatchNorm2d(64, eps=1e-05, momentum=0.1, affine=True, track_running_stats=True)\n",
      "          (conv2): Conv2d(64, 64, kernel_size=(3, 3), stride=(1, 1), padding=(1, 1), bias=False)\n",
      "          (bn2): BatchNorm2d(64, eps=1e-05, momentum=0.1, affine=True, track_running_stats=True)\n",
      "          (relu): ReLU(inplace=True)\n",
      "          (dropout): Dropout(p=0.4, inplace=False)\n",
      "          (shortcut): Sequential()\n",
      "        )\n",
      "        (4): BasicBlock(\n",
      "          (conv1): Conv2d(64, 64, kernel_size=(3, 3), stride=(1, 1), padding=(1, 1), bias=False)\n",
      "          (bn1): BatchNorm2d(64, eps=1e-05, momentum=0.1, affine=True, track_running_stats=True)\n",
      "          (conv2): Conv2d(64, 64, kernel_size=(3, 3), stride=(1, 1), padding=(1, 1), bias=False)\n",
      "          (bn2): BatchNorm2d(64, eps=1e-05, momentum=0.1, affine=True, track_running_stats=True)\n",
      "          (relu): ReLU(inplace=True)\n",
      "          (dropout): Dropout(p=0.4, inplace=False)\n",
      "          (shortcut): Sequential()\n",
      "        )\n",
      "      )\n",
      "    )\n",
      "    (layer2): MakeLayer(\n",
      "      (layer): Sequential(\n",
      "        (0): BasicBlock(\n",
      "          (conv1): Conv2d(64, 128, kernel_size=(3, 3), stride=(2, 2), padding=(1, 1), bias=False)\n",
      "          (bn1): BatchNorm2d(128, eps=1e-05, momentum=0.1, affine=True, track_running_stats=True)\n",
      "          (conv2): Conv2d(128, 128, kernel_size=(3, 3), stride=(1, 1), padding=(1, 1), bias=False)\n",
      "          (bn2): BatchNorm2d(128, eps=1e-05, momentum=0.1, affine=True, track_running_stats=True)\n",
      "          (relu): ReLU(inplace=True)\n",
      "          (dropout): Dropout(p=0.4, inplace=False)\n",
      "          (shortcut): Sequential(\n",
      "            (0): Conv2d(64, 128, kernel_size=(1, 1), stride=(2, 2), bias=False)\n",
      "            (1): BatchNorm2d(128, eps=1e-05, momentum=0.1, affine=True, track_running_stats=True)\n",
      "          )\n",
      "        )\n",
      "        (1): BasicBlock(\n",
      "          (conv1): Conv2d(128, 128, kernel_size=(3, 3), stride=(1, 1), padding=(1, 1), bias=False)\n",
      "          (bn1): BatchNorm2d(128, eps=1e-05, momentum=0.1, affine=True, track_running_stats=True)\n",
      "          (conv2): Conv2d(128, 128, kernel_size=(3, 3), stride=(1, 1), padding=(1, 1), bias=False)\n",
      "          (bn2): BatchNorm2d(128, eps=1e-05, momentum=0.1, affine=True, track_running_stats=True)\n",
      "          (relu): ReLU(inplace=True)\n",
      "          (dropout): Dropout(p=0.4, inplace=False)\n",
      "          (shortcut): Sequential()\n",
      "        )\n",
      "        (2): BasicBlock(\n",
      "          (conv1): Conv2d(128, 128, kernel_size=(3, 3), stride=(1, 1), padding=(1, 1), bias=False)\n",
      "          (bn1): BatchNorm2d(128, eps=1e-05, momentum=0.1, affine=True, track_running_stats=True)\n",
      "          (conv2): Conv2d(128, 128, kernel_size=(3, 3), stride=(1, 1), padding=(1, 1), bias=False)\n",
      "          (bn2): BatchNorm2d(128, eps=1e-05, momentum=0.1, affine=True, track_running_stats=True)\n",
      "          (relu): ReLU(inplace=True)\n",
      "          (dropout): Dropout(p=0.4, inplace=False)\n",
      "          (shortcut): Sequential()\n",
      "        )\n",
      "        (3): BasicBlock(\n",
      "          (conv1): Conv2d(128, 128, kernel_size=(3, 3), stride=(1, 1), padding=(1, 1), bias=False)\n",
      "          (bn1): BatchNorm2d(128, eps=1e-05, momentum=0.1, affine=True, track_running_stats=True)\n",
      "          (conv2): Conv2d(128, 128, kernel_size=(3, 3), stride=(1, 1), padding=(1, 1), bias=False)\n",
      "          (bn2): BatchNorm2d(128, eps=1e-05, momentum=0.1, affine=True, track_running_stats=True)\n",
      "          (relu): ReLU(inplace=True)\n",
      "          (dropout): Dropout(p=0.4, inplace=False)\n",
      "          (shortcut): Sequential()\n",
      "        )\n",
      "      )\n",
      "    )\n",
      "    (layer3): MakeLayer(\n",
      "      (layer): Sequential(\n",
      "        (0): BasicBlock(\n",
      "          (conv1): Conv2d(128, 256, kernel_size=(3, 3), stride=(2, 2), padding=(1, 1), bias=False)\n",
      "          (bn1): BatchNorm2d(256, eps=1e-05, momentum=0.1, affine=True, track_running_stats=True)\n",
      "          (conv2): Conv2d(256, 256, kernel_size=(3, 3), stride=(1, 1), padding=(1, 1), bias=False)\n",
      "          (bn2): BatchNorm2d(256, eps=1e-05, momentum=0.1, affine=True, track_running_stats=True)\n",
      "          (relu): ReLU(inplace=True)\n",
      "          (dropout): Dropout(p=0.4, inplace=False)\n",
      "          (shortcut): Sequential(\n",
      "            (0): Conv2d(128, 256, kernel_size=(1, 1), stride=(2, 2), bias=False)\n",
      "            (1): BatchNorm2d(256, eps=1e-05, momentum=0.1, affine=True, track_running_stats=True)\n",
      "          )\n",
      "        )\n",
      "        (1): BasicBlock(\n",
      "          (conv1): Conv2d(256, 256, kernel_size=(3, 3), stride=(1, 1), padding=(1, 1), bias=False)\n",
      "          (bn1): BatchNorm2d(256, eps=1e-05, momentum=0.1, affine=True, track_running_stats=True)\n",
      "          (conv2): Conv2d(256, 256, kernel_size=(3, 3), stride=(1, 1), padding=(1, 1), bias=False)\n",
      "          (bn2): BatchNorm2d(256, eps=1e-05, momentum=0.1, affine=True, track_running_stats=True)\n",
      "          (relu): ReLU(inplace=True)\n",
      "          (dropout): Dropout(p=0.4, inplace=False)\n",
      "          (shortcut): Sequential()\n",
      "        )\n",
      "        (2): BasicBlock(\n",
      "          (conv1): Conv2d(256, 256, kernel_size=(3, 3), stride=(1, 1), padding=(1, 1), bias=False)\n",
      "          (bn1): BatchNorm2d(256, eps=1e-05, momentum=0.1, affine=True, track_running_stats=True)\n",
      "          (conv2): Conv2d(256, 256, kernel_size=(3, 3), stride=(1, 1), padding=(1, 1), bias=False)\n",
      "          (bn2): BatchNorm2d(256, eps=1e-05, momentum=0.1, affine=True, track_running_stats=True)\n",
      "          (relu): ReLU(inplace=True)\n",
      "          (dropout): Dropout(p=0.4, inplace=False)\n",
      "          (shortcut): Sequential()\n",
      "        )\n",
      "      )\n",
      "    )\n",
      "    (linear): Linear(in_features=256, out_features=10, bias=True)\n",
      "  )\n",
      ")\n"
     ]
    }
   ],
   "source": [
    "# Building Block Class\n",
    "class BasicBlock(nn.Module):\n",
    "    def __init__(self, in_planes, out_planes, stride=1):\n",
    "        super(BasicBlock, self).__init__()\n",
    "        self.conv1 = nn.Conv2d(in_planes, out_planes, kernel_size=3, stride=stride, padding=1, bias=False)\n",
    "        self.bn1 = nn.BatchNorm2d(out_planes)\n",
    "        self.conv2 = nn.Conv2d(out_planes, out_planes, kernel_size=3, stride=1, padding=1, bias=False)\n",
    "        self.bn2 = nn.BatchNorm2d(out_planes)\n",
    "        self.relu = nn.ReLU(inplace=True)\n",
    "        self.dropout = nn.Dropout(p=0.4)\n",
    "        self.shortcut = nn.Sequential()\n",
    "        if stride != 1 or in_planes != out_planes:\n",
    "            self.shortcut = nn.Sequential(\n",
    "                nn.Conv2d(in_planes, out_planes, kernel_size=1, stride=stride, bias=False),\n",
    "                nn.BatchNorm2d(out_planes)\n",
    "            )\n",
    "\n",
    "    def forward(self, x):\n",
    "        out = self.relu(self.bn1(self.conv1(x)))\n",
    "        out = self.dropout(out)\n",
    "        out = self.bn2(self.conv2(out))\n",
    "        out += self.shortcut(x)\n",
    "        out = self.relu(out)\n",
    "        out = self.dropout(out)\n",
    "        return out\n",
    "\n",
    "\n",
    "# Make Layer Class\n",
    "class MakeLayer(nn.Module):\n",
    "    def __init__(self, block, in_planes, out_planes, blocks, stride=1):\n",
    "        super(MakeLayer, self).__init__()\n",
    "        self.stride = stride\n",
    "        self.layer = self._make_layer(block, in_planes, out_planes, blocks, stride)\n",
    "\n",
    "    def _make_layer(self, block, in_planes, out_planes, blocks, stride):\n",
    "        layers = []\n",
    "        layers.append(block(in_planes, out_planes, stride))\n",
    "        if blocks > 1:\n",
    "            for i in range(1, blocks):\n",
    "                layers.append(block(out_planes, out_planes, stride=1))\n",
    "        return nn.Sequential(*layers)\n",
    "\n",
    "    def forward(self, x):\n",
    "        return self.layer(x)\n",
    "\n",
    "\n",
    "# ResNet Class\n",
    "class ResNet(nn.Module):\n",
    "    def __init__(self, block, num_blocks, num_classes=10):\n",
    "        super(ResNet, self).__init__()\n",
    "        self.in_planes = 64\n",
    "\n",
    "        self.conv1 = nn.Conv2d(3, 64, kernel_size=7, stride=1, padding=3, bias=False)\n",
    "        self.bn1 = nn.BatchNorm2d(64)\n",
    "        self.layer1 = MakeLayer(block, 64, 64, num_blocks[0], stride=1)\n",
    "        self.layer2 = MakeLayer(block, 64, 128, num_blocks[1], stride=2)\n",
    "        self.layer3 = MakeLayer(block, 128, 256, num_blocks[2], stride=2)\n",
    "        # self.layer4 = MakeLayer(block, 256, 512, num_blocks[3], stride=2)\n",
    "        self.linear = nn.Linear(256, num_classes)\n",
    "\n",
    "    def forward(self, x):\n",
    "        out = F.relu(self.bn1(self.conv1(x)))\n",
    "        out = self.layer1(out)\n",
    "        out = self.layer2(out)\n",
    "        out = self.layer3(out)\n",
    "        # out = self.layer4(out)\n",
    "        out = F.avg_pool2d(out, 8)\n",
    "        out = out.view(out.size(0), -1)\n",
    "        out = self.linear(out)\n",
    "        return out\n",
    "\n",
    "\n",
    "# ResNet18 Class\n",
    "class ResNet18(nn.Module):\n",
    "    def __init__(self, num_classes=10):\n",
    "        super(ResNet18, self).__init__()\n",
    "        self.num_classes = num_classes\n",
    "        self.resnet = ResNet(BasicBlock, [4, 3, 2], num_classes=self.num_classes)\n",
    "\n",
    "    def forward(self, x):\n",
    "        return self.resnet(x)\n",
    "\n",
    "\n",
    "# Test\n",
    "device = 'cuda' if torch.cuda.is_available() else 'cpu'\n",
    "net = ResNet18()\n",
    "net.to(device)\n",
    "print(net)\n"
   ]
  },
  {
   "cell_type": "code",
   "execution_count": 5,
   "id": "f864104d-193a-42a1-b0fe-caa1d56620fb",
   "metadata": {},
   "outputs": [
    {
     "name": "stdout",
     "output_type": "stream",
     "text": [
      "----------------------------------------------------------------\n",
      "        Layer (type)               Output Shape         Param #\n",
      "================================================================\n",
      "            Conv2d-1           [-1, 64, 32, 32]           9,408\n",
      "       BatchNorm2d-2           [-1, 64, 32, 32]             128\n",
      "            Conv2d-3           [-1, 64, 32, 32]          36,864\n",
      "       BatchNorm2d-4           [-1, 64, 32, 32]             128\n",
      "              ReLU-5           [-1, 64, 32, 32]               0\n",
      "           Dropout-6           [-1, 64, 32, 32]               0\n",
      "            Conv2d-7           [-1, 64, 32, 32]          36,864\n",
      "       BatchNorm2d-8           [-1, 64, 32, 32]             128\n",
      "              ReLU-9           [-1, 64, 32, 32]               0\n",
      "          Dropout-10           [-1, 64, 32, 32]               0\n",
      "       BasicBlock-11           [-1, 64, 32, 32]               0\n",
      "           Conv2d-12           [-1, 64, 32, 32]          36,864\n",
      "      BatchNorm2d-13           [-1, 64, 32, 32]             128\n",
      "             ReLU-14           [-1, 64, 32, 32]               0\n",
      "          Dropout-15           [-1, 64, 32, 32]               0\n",
      "           Conv2d-16           [-1, 64, 32, 32]          36,864\n",
      "      BatchNorm2d-17           [-1, 64, 32, 32]             128\n",
      "             ReLU-18           [-1, 64, 32, 32]               0\n",
      "          Dropout-19           [-1, 64, 32, 32]               0\n",
      "       BasicBlock-20           [-1, 64, 32, 32]               0\n",
      "           Conv2d-21           [-1, 64, 32, 32]          36,864\n",
      "      BatchNorm2d-22           [-1, 64, 32, 32]             128\n",
      "             ReLU-23           [-1, 64, 32, 32]               0\n",
      "          Dropout-24           [-1, 64, 32, 32]               0\n",
      "           Conv2d-25           [-1, 64, 32, 32]          36,864\n",
      "      BatchNorm2d-26           [-1, 64, 32, 32]             128\n",
      "             ReLU-27           [-1, 64, 32, 32]               0\n",
      "          Dropout-28           [-1, 64, 32, 32]               0\n",
      "       BasicBlock-29           [-1, 64, 32, 32]               0\n",
      "           Conv2d-30           [-1, 64, 32, 32]          36,864\n",
      "      BatchNorm2d-31           [-1, 64, 32, 32]             128\n",
      "             ReLU-32           [-1, 64, 32, 32]               0\n",
      "          Dropout-33           [-1, 64, 32, 32]               0\n",
      "           Conv2d-34           [-1, 64, 32, 32]          36,864\n",
      "      BatchNorm2d-35           [-1, 64, 32, 32]             128\n",
      "             ReLU-36           [-1, 64, 32, 32]               0\n",
      "          Dropout-37           [-1, 64, 32, 32]               0\n",
      "       BasicBlock-38           [-1, 64, 32, 32]               0\n",
      "           Conv2d-39           [-1, 64, 32, 32]          36,864\n",
      "      BatchNorm2d-40           [-1, 64, 32, 32]             128\n",
      "             ReLU-41           [-1, 64, 32, 32]               0\n",
      "          Dropout-42           [-1, 64, 32, 32]               0\n",
      "           Conv2d-43           [-1, 64, 32, 32]          36,864\n",
      "      BatchNorm2d-44           [-1, 64, 32, 32]             128\n",
      "             ReLU-45           [-1, 64, 32, 32]               0\n",
      "          Dropout-46           [-1, 64, 32, 32]               0\n",
      "       BasicBlock-47           [-1, 64, 32, 32]               0\n",
      "        MakeLayer-48           [-1, 64, 32, 32]               0\n",
      "           Conv2d-49          [-1, 128, 16, 16]          73,728\n",
      "      BatchNorm2d-50          [-1, 128, 16, 16]             256\n",
      "             ReLU-51          [-1, 128, 16, 16]               0\n",
      "          Dropout-52          [-1, 128, 16, 16]               0\n",
      "           Conv2d-53          [-1, 128, 16, 16]         147,456\n",
      "      BatchNorm2d-54          [-1, 128, 16, 16]             256\n",
      "           Conv2d-55          [-1, 128, 16, 16]           8,192\n",
      "      BatchNorm2d-56          [-1, 128, 16, 16]             256\n",
      "             ReLU-57          [-1, 128, 16, 16]               0\n",
      "          Dropout-58          [-1, 128, 16, 16]               0\n",
      "       BasicBlock-59          [-1, 128, 16, 16]               0\n",
      "           Conv2d-60          [-1, 128, 16, 16]         147,456\n",
      "      BatchNorm2d-61          [-1, 128, 16, 16]             256\n",
      "             ReLU-62          [-1, 128, 16, 16]               0\n",
      "          Dropout-63          [-1, 128, 16, 16]               0\n",
      "           Conv2d-64          [-1, 128, 16, 16]         147,456\n",
      "      BatchNorm2d-65          [-1, 128, 16, 16]             256\n",
      "             ReLU-66          [-1, 128, 16, 16]               0\n",
      "          Dropout-67          [-1, 128, 16, 16]               0\n",
      "       BasicBlock-68          [-1, 128, 16, 16]               0\n",
      "           Conv2d-69          [-1, 128, 16, 16]         147,456\n",
      "      BatchNorm2d-70          [-1, 128, 16, 16]             256\n",
      "             ReLU-71          [-1, 128, 16, 16]               0\n",
      "          Dropout-72          [-1, 128, 16, 16]               0\n",
      "           Conv2d-73          [-1, 128, 16, 16]         147,456\n",
      "      BatchNorm2d-74          [-1, 128, 16, 16]             256\n",
      "             ReLU-75          [-1, 128, 16, 16]               0\n",
      "          Dropout-76          [-1, 128, 16, 16]               0\n",
      "       BasicBlock-77          [-1, 128, 16, 16]               0\n",
      "           Conv2d-78          [-1, 128, 16, 16]         147,456\n",
      "      BatchNorm2d-79          [-1, 128, 16, 16]             256\n",
      "             ReLU-80          [-1, 128, 16, 16]               0\n",
      "          Dropout-81          [-1, 128, 16, 16]               0\n",
      "           Conv2d-82          [-1, 128, 16, 16]         147,456\n",
      "      BatchNorm2d-83          [-1, 128, 16, 16]             256\n",
      "             ReLU-84          [-1, 128, 16, 16]               0\n",
      "          Dropout-85          [-1, 128, 16, 16]               0\n",
      "       BasicBlock-86          [-1, 128, 16, 16]               0\n",
      "        MakeLayer-87          [-1, 128, 16, 16]               0\n",
      "           Conv2d-88            [-1, 256, 8, 8]         294,912\n",
      "      BatchNorm2d-89            [-1, 256, 8, 8]             512\n",
      "             ReLU-90            [-1, 256, 8, 8]               0\n",
      "          Dropout-91            [-1, 256, 8, 8]               0\n",
      "           Conv2d-92            [-1, 256, 8, 8]         589,824\n",
      "      BatchNorm2d-93            [-1, 256, 8, 8]             512\n",
      "           Conv2d-94            [-1, 256, 8, 8]          32,768\n",
      "      BatchNorm2d-95            [-1, 256, 8, 8]             512\n",
      "             ReLU-96            [-1, 256, 8, 8]               0\n",
      "          Dropout-97            [-1, 256, 8, 8]               0\n",
      "       BasicBlock-98            [-1, 256, 8, 8]               0\n",
      "           Conv2d-99            [-1, 256, 8, 8]         589,824\n",
      "     BatchNorm2d-100            [-1, 256, 8, 8]             512\n",
      "            ReLU-101            [-1, 256, 8, 8]               0\n",
      "         Dropout-102            [-1, 256, 8, 8]               0\n",
      "          Conv2d-103            [-1, 256, 8, 8]         589,824\n",
      "     BatchNorm2d-104            [-1, 256, 8, 8]             512\n",
      "            ReLU-105            [-1, 256, 8, 8]               0\n",
      "         Dropout-106            [-1, 256, 8, 8]               0\n",
      "      BasicBlock-107            [-1, 256, 8, 8]               0\n",
      "          Conv2d-108            [-1, 256, 8, 8]         589,824\n",
      "     BatchNorm2d-109            [-1, 256, 8, 8]             512\n",
      "            ReLU-110            [-1, 256, 8, 8]               0\n",
      "         Dropout-111            [-1, 256, 8, 8]               0\n",
      "          Conv2d-112            [-1, 256, 8, 8]         589,824\n",
      "     BatchNorm2d-113            [-1, 256, 8, 8]             512\n",
      "            ReLU-114            [-1, 256, 8, 8]               0\n",
      "         Dropout-115            [-1, 256, 8, 8]               0\n",
      "      BasicBlock-116            [-1, 256, 8, 8]               0\n",
      "       MakeLayer-117            [-1, 256, 8, 8]               0\n",
      "          Linear-118                   [-1, 10]           2,570\n",
      "          ResNet-119                   [-1, 10]               0\n",
      "================================================================\n",
      "Total params: 4,778,826\n",
      "Trainable params: 4,778,826\n",
      "Non-trainable params: 0\n",
      "----------------------------------------------------------------\n",
      "Input size (MB): 0.01\n",
      "Forward/backward pass size (MB): 37.50\n",
      "Params size (MB): 18.23\n",
      "Estimated Total Size (MB): 55.74\n",
      "----------------------------------------------------------------\n"
     ]
    }
   ],
   "source": [
    "# this will give us a summary of the model including the total number of parameters\n",
    "summary(net, (3, 32, 32))  # Because CIFAR-10 images are 32x32x3"
   ]
  },
  {
   "cell_type": "code",
   "execution_count": 6,
   "id": "f1b0e5a4-b620-4f47-8b73-71c632a725ad",
   "metadata": {},
   "outputs": [
    {
     "data": {
      "text/plain": [
       "'ResNet18_Model1.png'"
      ]
     },
     "execution_count": 6,
     "metadata": {},
     "output_type": "execute_result"
    }
   ],
   "source": [
    "# Forward pass a dummy input through the model\n",
    "dummy_input = torch.randn(1, 3, 32, 32).to(device)\n",
    "output = net(dummy_input)\n",
    "\n",
    "# Visualize the model using torchviz\n",
    "torchviz.make_dot(output, params=dict(net.named_parameters()))\n",
    "torchviz.make_dot(output, params=dict(net.named_parameters())).render(\"ResNet18_Model\", format=\"png\")\n",
    "#there will be a file generated called 'ResNet18_Model.png' to visualize the model as a flow\n",
    "torchviz.make_dot(output, params=dict(net.named_parameters()), show_attrs=True, show_saved=True).render(\"ResNet18_Model1\", format=\"png\")\n",
    "#there will be a file generated called 'ResNet18_Model1.png' to visualize the model as a flow"
   ]
  },
  {
   "cell_type": "code",
   "execution_count": 7,
   "id": "ac63f09e-2efa-4046-aae9-d5566e59340e",
   "metadata": {},
   "outputs": [
    {
     "name": "stdout",
     "output_type": "stream",
     "text": [
      "==> Preparing data..\n",
      "Files already downloaded and verified\n"
     ]
    },
    {
     "name": "stderr",
     "output_type": "stream",
     "text": [
      "/ext3/miniconda3/lib/python3.12/site-packages/torch/utils/data/dataloader.py:558: UserWarning: This DataLoader will create 16 worker processes in total. Our suggested max number of worker in current system is 14, which is smaller than what this DataLoader is going to create. Please be aware that excessive worker creation might get DataLoader running slow or even freeze, lower the worker number to avoid potential slowness/freeze if necessary.\n",
      "  warnings.warn(_create_warning_msg(\n"
     ]
    },
    {
     "name": "stdout",
     "output_type": "stream",
     "text": [
      "Files already downloaded and verified\n"
     ]
    }
   ],
   "source": [
    "# Data Normalization and Data Augmentation\n",
    "print('==> Preparing data..')\n",
    "# Define additional data augmentation transforms\n",
    "brightness_transforms = [\n",
    "    transforms.ColorJitter(brightness=(0.75, 1.25)),\n",
    "    transforms.ColorJitter(brightness=(0.5, 1.5)),\n",
    "    # transforms.ColorJitter(brightness=(0.25, 0.75)),\n",
    "    # transforms.ColorJitter(brightness=(0.15, 0.85))\n",
    "]\n",
    "\n",
    "contrast_transforms = [\n",
    "    transforms.ColorJitter(contrast=(0.75, 1.25)),\n",
    "    transforms.ColorJitter(contrast=(0.5, 1.5)),\n",
    "    # transforms.ColorJitter(contrast=(0.25, 0.75)),\n",
    "    # transforms.ColorJitter(contrast=(0.15, 0.85))\n",
    "]\n",
    "\n",
    "rotation_transforms = [\n",
    "    transforms.RandomRotation(90),\n",
    "    transforms.RandomRotation(270)  # Equivalent to -90 degrees\n",
    "]\n",
    "\n",
    "# Combine all transformations\n",
    "transform_train = transforms.Compose([\n",
    "    transforms.RandomCrop(32, padding=4),\n",
    "    transforms.RandomHorizontalFlip(),\n",
    "    transforms.RandomApply(brightness_transforms, p=0.5),\n",
    "    transforms.RandomApply(contrast_transforms, p=0.5),\n",
    "    transforms.RandomApply(rotation_transforms, p=0.5),\n",
    "    transforms.ToTensor(),\n",
    "    transforms.Normalize((0.4914, 0.4822, 0.4465), (0.2023, 0.1994, 0.2010)),\n",
    "])\n",
    "\n",
    "transform_test = transforms.Compose([\n",
    "    transforms.ToTensor(),\n",
    "    transforms.Normalize((0.4914, 0.4822, 0.4465), (0.2023, 0.1994, 0.2010)),\n",
    "])\n",
    "\n",
    "# Load CIFAR-10 dataset with the new transformations\n",
    "trainset = torchvision.datasets.CIFAR10(\n",
    "    root='./data', train=True, download=True, transform=transform_train)\n",
    "trainloader = torch.utils.data.DataLoader(\n",
    "    trainset, batch_size=128, shuffle=True, num_workers=16)\n",
    "\n",
    "testset = torchvision.datasets.CIFAR10(\n",
    "    root='./data', train=False, download=True, transform=transform_test)\n",
    "testloader = torch.utils.data.DataLoader(\n",
    "    testset, batch_size=128, shuffle=False, num_workers=16)\n",
    "\n",
    "classes = ('airplane', 'automobile', 'bird', 'cat', 'deer',\n",
    "           'dog', 'frog', 'horse', 'ship', 'truck')"
   ]
  },
  {
   "cell_type": "code",
   "execution_count": 8,
   "id": "c9645c6d-79e5-49f0-bf54-53711433e3f8",
   "metadata": {},
   "outputs": [
    {
     "name": "stdout",
     "output_type": "stream",
     "text": [
      "Start training...\n"
     ]
    },
    {
     "name": "stderr",
     "output_type": "stream",
     "text": [
      "Epoch 1: 100%|██████████| 391/391 [00:30<00:00, 12.86it/s, Loss=1.78, Accuracy=31]  \n"
     ]
    },
    {
     "name": "stdout",
     "output_type": "stream",
     "text": [
      "Epoch 1, Validation Loss: 0.0183625962972641, Accuracy: 23.06%\n"
     ]
    },
    {
     "name": "stderr",
     "output_type": "stream",
     "text": [
      "Epoch 2: 100%|██████████| 391/391 [00:30<00:00, 12.82it/s, Loss=1.63, Accuracy=38.5]\n"
     ]
    },
    {
     "name": "stdout",
     "output_type": "stream",
     "text": [
      "Epoch 2, Validation Loss: 0.013004295754432679, Accuracy: 39.32%\n"
     ]
    },
    {
     "name": "stderr",
     "output_type": "stream",
     "text": [
      "Epoch 3: 100%|██████████| 391/391 [00:30<00:00, 12.91it/s, Loss=1.52, Accuracy=43.2]\n"
     ]
    },
    {
     "name": "stdout",
     "output_type": "stream",
     "text": [
      "Epoch 3, Validation Loss: 0.012063153338432312, Accuracy: 43.64%\n"
     ]
    },
    {
     "name": "stderr",
     "output_type": "stream",
     "text": [
      "Epoch 4: 100%|██████████| 391/391 [00:30<00:00, 12.87it/s, Loss=1.43, Accuracy=47.3]\n"
     ]
    },
    {
     "name": "stdout",
     "output_type": "stream",
     "text": [
      "Epoch 4, Validation Loss: 0.012745248568058015, Accuracy: 43.5%\n"
     ]
    },
    {
     "name": "stderr",
     "output_type": "stream",
     "text": [
      "Epoch 5: 100%|██████████| 391/391 [00:30<00:00, 12.88it/s, Loss=1.33, Accuracy=51.6]\n"
     ]
    },
    {
     "name": "stdout",
     "output_type": "stream",
     "text": [
      "Epoch 5, Validation Loss: 0.01111070829629898, Accuracy: 51.35%\n"
     ]
    },
    {
     "name": "stderr",
     "output_type": "stream",
     "text": [
      "Epoch 6: 100%|██████████| 391/391 [00:30<00:00, 12.90it/s, Loss=1.26, Accuracy=54.7]\n"
     ]
    },
    {
     "name": "stdout",
     "output_type": "stream",
     "text": [
      "Epoch 6, Validation Loss: 0.009799027717113495, Accuracy: 56.8%\n"
     ]
    },
    {
     "name": "stderr",
     "output_type": "stream",
     "text": [
      "Epoch 7: 100%|██████████| 391/391 [00:30<00:00, 12.85it/s, Loss=1.2, Accuracy=57.1] \n"
     ]
    },
    {
     "name": "stdout",
     "output_type": "stream",
     "text": [
      "Epoch 7, Validation Loss: 0.010196517157554626, Accuracy: 57.15%\n"
     ]
    },
    {
     "name": "stderr",
     "output_type": "stream",
     "text": [
      "Epoch 8: 100%|██████████| 391/391 [00:30<00:00, 12.87it/s, Loss=1.14, Accuracy=59.3]\n"
     ]
    },
    {
     "name": "stdout",
     "output_type": "stream",
     "text": [
      "Epoch 8, Validation Loss: 0.009386538475751877, Accuracy: 59.84%\n"
     ]
    },
    {
     "name": "stderr",
     "output_type": "stream",
     "text": [
      "Epoch 9: 100%|██████████| 391/391 [00:30<00:00, 12.85it/s, Loss=1.09, Accuracy=61.4]\n"
     ]
    },
    {
     "name": "stdout",
     "output_type": "stream",
     "text": [
      "Epoch 9, Validation Loss: 0.00971892564892769, Accuracy: 59.44%\n"
     ]
    },
    {
     "name": "stderr",
     "output_type": "stream",
     "text": [
      "Epoch 10: 100%|██████████| 391/391 [00:30<00:00, 12.92it/s, Loss=1.05, Accuracy=62.6]\n"
     ]
    },
    {
     "name": "stdout",
     "output_type": "stream",
     "text": [
      "Epoch 10, Validation Loss: 0.00943878613114357, Accuracy: 60.23%\n"
     ]
    },
    {
     "name": "stderr",
     "output_type": "stream",
     "text": [
      "Epoch 11: 100%|██████████| 391/391 [00:30<00:00, 12.88it/s, Loss=1.02, Accuracy=64.2]\n"
     ]
    },
    {
     "name": "stdout",
     "output_type": "stream",
     "text": [
      "Epoch 11, Validation Loss: 0.008551766562461854, Accuracy: 62.6%\n"
     ]
    },
    {
     "name": "stderr",
     "output_type": "stream",
     "text": [
      "Epoch 12: 100%|██████████| 391/391 [00:30<00:00, 12.94it/s, Loss=0.987, Accuracy=65.2]\n"
     ]
    },
    {
     "name": "stdout",
     "output_type": "stream",
     "text": [
      "Epoch 12, Validation Loss: 0.008892432516813278, Accuracy: 63.05%\n"
     ]
    },
    {
     "name": "stderr",
     "output_type": "stream",
     "text": [
      "Epoch 13: 100%|██████████| 391/391 [00:30<00:00, 12.90it/s, Loss=0.968, Accuracy=65.9]\n"
     ]
    },
    {
     "name": "stdout",
     "output_type": "stream",
     "text": [
      "Epoch 13, Validation Loss: 0.0086251698076725, Accuracy: 64.19%\n"
     ]
    },
    {
     "name": "stderr",
     "output_type": "stream",
     "text": [
      "Epoch 14: 100%|██████████| 391/391 [00:30<00:00, 12.85it/s, Loss=0.935, Accuracy=67.2]\n"
     ]
    },
    {
     "name": "stdout",
     "output_type": "stream",
     "text": [
      "Epoch 14, Validation Loss: 0.00833851922750473, Accuracy: 65.28%\n"
     ]
    },
    {
     "name": "stderr",
     "output_type": "stream",
     "text": [
      "Epoch 15: 100%|██████████| 391/391 [00:30<00:00, 12.89it/s, Loss=0.919, Accuracy=67.7]\n"
     ]
    },
    {
     "name": "stdout",
     "output_type": "stream",
     "text": [
      "Epoch 15, Validation Loss: 0.00823978596329689, Accuracy: 66.14%\n"
     ]
    },
    {
     "name": "stderr",
     "output_type": "stream",
     "text": [
      "Epoch 16: 100%|██████████| 391/391 [00:30<00:00, 12.91it/s, Loss=0.9, Accuracy=68.3]  \n"
     ]
    },
    {
     "name": "stdout",
     "output_type": "stream",
     "text": [
      "Epoch 16, Validation Loss: 0.006722958832979202, Accuracy: 70.91%\n"
     ]
    },
    {
     "name": "stderr",
     "output_type": "stream",
     "text": [
      "Epoch 17: 100%|██████████| 391/391 [00:30<00:00, 12.88it/s, Loss=0.882, Accuracy=69.1]\n"
     ]
    },
    {
     "name": "stdout",
     "output_type": "stream",
     "text": [
      "Epoch 17, Validation Loss: 0.006755239999294281, Accuracy: 70.24%\n"
     ]
    },
    {
     "name": "stderr",
     "output_type": "stream",
     "text": [
      "Epoch 18: 100%|██████████| 391/391 [00:30<00:00, 12.93it/s, Loss=0.867, Accuracy=69.9]\n"
     ]
    },
    {
     "name": "stdout",
     "output_type": "stream",
     "text": [
      "Epoch 18, Validation Loss: 0.006803632187843323, Accuracy: 70.49%\n"
     ]
    },
    {
     "name": "stderr",
     "output_type": "stream",
     "text": [
      "Epoch 19: 100%|██████████| 391/391 [00:30<00:00, 12.87it/s, Loss=0.84, Accuracy=70.6] \n"
     ]
    },
    {
     "name": "stdout",
     "output_type": "stream",
     "text": [
      "Epoch 19, Validation Loss: 0.006719571536779404, Accuracy: 70.93%\n"
     ]
    },
    {
     "name": "stderr",
     "output_type": "stream",
     "text": [
      "Epoch 20: 100%|██████████| 391/391 [00:30<00:00, 12.88it/s, Loss=0.834, Accuracy=70.9]\n"
     ]
    },
    {
     "name": "stdout",
     "output_type": "stream",
     "text": [
      "Epoch 20, Validation Loss: 0.00937495619058609, Accuracy: 61.39%\n"
     ]
    },
    {
     "name": "stderr",
     "output_type": "stream",
     "text": [
      "Epoch 21: 100%|██████████| 391/391 [00:30<00:00, 12.91it/s, Loss=0.818, Accuracy=71.6]\n"
     ]
    },
    {
     "name": "stdout",
     "output_type": "stream",
     "text": [
      "Epoch 21, Validation Loss: 0.007533622390031814, Accuracy: 67.79%\n"
     ]
    },
    {
     "name": "stderr",
     "output_type": "stream",
     "text": [
      "Epoch 22: 100%|██████████| 391/391 [00:30<00:00, 12.87it/s, Loss=0.803, Accuracy=72]  \n"
     ]
    },
    {
     "name": "stdout",
     "output_type": "stream",
     "text": [
      "Epoch 22, Validation Loss: 0.0063322565972805025, Accuracy: 73.94%\n"
     ]
    },
    {
     "name": "stderr",
     "output_type": "stream",
     "text": [
      "Epoch 23: 100%|██████████| 391/391 [00:30<00:00, 12.89it/s, Loss=0.783, Accuracy=72.9]\n"
     ]
    },
    {
     "name": "stdout",
     "output_type": "stream",
     "text": [
      "Epoch 23, Validation Loss: 0.005713316649198532, Accuracy: 75.1%\n"
     ]
    },
    {
     "name": "stderr",
     "output_type": "stream",
     "text": [
      "Epoch 24: 100%|██████████| 391/391 [00:30<00:00, 12.88it/s, Loss=0.781, Accuracy=72.9]\n"
     ]
    },
    {
     "name": "stdout",
     "output_type": "stream",
     "text": [
      "Epoch 24, Validation Loss: 0.008450896489620208, Accuracy: 66.95%\n"
     ]
    },
    {
     "name": "stderr",
     "output_type": "stream",
     "text": [
      "Epoch 25: 100%|██████████| 391/391 [00:30<00:00, 12.87it/s, Loss=0.765, Accuracy=73.5]\n"
     ]
    },
    {
     "name": "stdout",
     "output_type": "stream",
     "text": [
      "Epoch 25, Validation Loss: 0.005948801320791244, Accuracy: 74.47%\n"
     ]
    },
    {
     "name": "stderr",
     "output_type": "stream",
     "text": [
      "Epoch 26: 100%|██████████| 391/391 [00:30<00:00, 12.88it/s, Loss=0.762, Accuracy=73.4]\n"
     ]
    },
    {
     "name": "stdout",
     "output_type": "stream",
     "text": [
      "Epoch 26, Validation Loss: 0.007529777419567108, Accuracy: 70.47%\n"
     ]
    },
    {
     "name": "stderr",
     "output_type": "stream",
     "text": [
      "Epoch 27: 100%|██████████| 391/391 [00:30<00:00, 12.88it/s, Loss=0.752, Accuracy=73.8]\n"
     ]
    },
    {
     "name": "stdout",
     "output_type": "stream",
     "text": [
      "Epoch 27, Validation Loss: 0.008260821449756622, Accuracy: 67.8%\n"
     ]
    },
    {
     "name": "stderr",
     "output_type": "stream",
     "text": [
      "Epoch 28: 100%|██████████| 391/391 [00:30<00:00, 12.90it/s, Loss=0.744, Accuracy=74.2]\n"
     ]
    },
    {
     "name": "stdout",
     "output_type": "stream",
     "text": [
      "Epoch 28, Validation Loss: 0.005569014406204224, Accuracy: 76.7%\n"
     ]
    },
    {
     "name": "stderr",
     "output_type": "stream",
     "text": [
      "Epoch 29: 100%|██████████| 391/391 [00:30<00:00, 12.90it/s, Loss=0.733, Accuracy=74.6]\n"
     ]
    },
    {
     "name": "stdout",
     "output_type": "stream",
     "text": [
      "Epoch 29, Validation Loss: 0.007780629473924637, Accuracy: 68.17%\n"
     ]
    },
    {
     "name": "stderr",
     "output_type": "stream",
     "text": [
      "Epoch 30: 100%|██████████| 391/391 [00:30<00:00, 12.89it/s, Loss=0.735, Accuracy=74.4]\n"
     ]
    },
    {
     "name": "stdout",
     "output_type": "stream",
     "text": [
      "Epoch 30, Validation Loss: 0.005697710025310517, Accuracy: 76.04%\n"
     ]
    },
    {
     "name": "stderr",
     "output_type": "stream",
     "text": [
      "Epoch 31: 100%|██████████| 391/391 [00:30<00:00, 12.92it/s, Loss=0.723, Accuracy=75]  \n"
     ]
    },
    {
     "name": "stdout",
     "output_type": "stream",
     "text": [
      "Epoch 31, Validation Loss: 0.005644833356142044, Accuracy: 75.91%\n"
     ]
    },
    {
     "name": "stderr",
     "output_type": "stream",
     "text": [
      "Epoch 32: 100%|██████████| 391/391 [00:30<00:00, 12.92it/s, Loss=0.712, Accuracy=75.4]\n"
     ]
    },
    {
     "name": "stdout",
     "output_type": "stream",
     "text": [
      "Epoch 32, Validation Loss: 0.005122828868031502, Accuracy: 78.12%\n"
     ]
    },
    {
     "name": "stderr",
     "output_type": "stream",
     "text": [
      "Epoch 33: 100%|██████████| 391/391 [00:30<00:00, 12.92it/s, Loss=0.706, Accuracy=75.5]\n"
     ]
    },
    {
     "name": "stdout",
     "output_type": "stream",
     "text": [
      "Epoch 33, Validation Loss: 0.005012573957443237, Accuracy: 78.25%\n"
     ]
    },
    {
     "name": "stderr",
     "output_type": "stream",
     "text": [
      "Epoch 34: 100%|██████████| 391/391 [00:30<00:00, 12.88it/s, Loss=0.697, Accuracy=75.9]\n"
     ]
    },
    {
     "name": "stdout",
     "output_type": "stream",
     "text": [
      "Epoch 34, Validation Loss: 0.0065741438031196595, Accuracy: 73.42%\n"
     ]
    },
    {
     "name": "stderr",
     "output_type": "stream",
     "text": [
      "Epoch 35: 100%|██████████| 391/391 [00:30<00:00, 12.90it/s, Loss=0.701, Accuracy=75.7]\n"
     ]
    },
    {
     "name": "stdout",
     "output_type": "stream",
     "text": [
      "Epoch 35, Validation Loss: 0.005368909868597984, Accuracy: 77.4%\n"
     ]
    },
    {
     "name": "stderr",
     "output_type": "stream",
     "text": [
      "Epoch 36: 100%|██████████| 391/391 [00:30<00:00, 12.91it/s, Loss=0.685, Accuracy=76.3]\n"
     ]
    },
    {
     "name": "stdout",
     "output_type": "stream",
     "text": [
      "Epoch 36, Validation Loss: 0.00592578409910202, Accuracy: 75.49%\n"
     ]
    },
    {
     "name": "stderr",
     "output_type": "stream",
     "text": [
      "Epoch 37: 100%|██████████| 391/391 [00:30<00:00, 12.94it/s, Loss=0.686, Accuracy=76.2]\n"
     ]
    },
    {
     "name": "stdout",
     "output_type": "stream",
     "text": [
      "Epoch 37, Validation Loss: 0.005027735263109207, Accuracy: 78.36%\n"
     ]
    },
    {
     "name": "stderr",
     "output_type": "stream",
     "text": [
      "Epoch 38: 100%|██████████| 391/391 [00:30<00:00, 12.92it/s, Loss=0.676, Accuracy=76.6]\n"
     ]
    },
    {
     "name": "stdout",
     "output_type": "stream",
     "text": [
      "Epoch 38, Validation Loss: 0.004524312737584114, Accuracy: 80.12%\n"
     ]
    },
    {
     "name": "stderr",
     "output_type": "stream",
     "text": [
      "Epoch 39: 100%|██████████| 391/391 [00:30<00:00, 12.93it/s, Loss=0.67, Accuracy=76.8] \n"
     ]
    },
    {
     "name": "stdout",
     "output_type": "stream",
     "text": [
      "Epoch 39, Validation Loss: 0.00610177791416645, Accuracy: 74.87%\n"
     ]
    },
    {
     "name": "stderr",
     "output_type": "stream",
     "text": [
      "Epoch 40: 100%|██████████| 391/391 [00:30<00:00, 12.87it/s, Loss=0.662, Accuracy=77.2]\n"
     ]
    },
    {
     "name": "stdout",
     "output_type": "stream",
     "text": [
      "Epoch 40, Validation Loss: 0.00609395649433136, Accuracy: 75.34%\n"
     ]
    },
    {
     "name": "stderr",
     "output_type": "stream",
     "text": [
      "Epoch 41: 100%|██████████| 391/391 [00:30<00:00, 12.93it/s, Loss=0.66, Accuracy=77.1] \n"
     ]
    },
    {
     "name": "stdout",
     "output_type": "stream",
     "text": [
      "Epoch 41, Validation Loss: 0.00553175537288189, Accuracy: 76.76%\n"
     ]
    },
    {
     "name": "stderr",
     "output_type": "stream",
     "text": [
      "Epoch 42: 100%|██████████| 391/391 [00:30<00:00, 12.90it/s, Loss=0.647, Accuracy=77.7]\n"
     ]
    },
    {
     "name": "stdout",
     "output_type": "stream",
     "text": [
      "Epoch 42, Validation Loss: 0.005484706735610962, Accuracy: 77.2%\n"
     ]
    },
    {
     "name": "stderr",
     "output_type": "stream",
     "text": [
      "Epoch 43: 100%|██████████| 391/391 [00:30<00:00, 12.93it/s, Loss=0.644, Accuracy=77.7]\n"
     ]
    },
    {
     "name": "stdout",
     "output_type": "stream",
     "text": [
      "Epoch 43, Validation Loss: 0.005788909286260605, Accuracy: 74.75%\n"
     ]
    },
    {
     "name": "stderr",
     "output_type": "stream",
     "text": [
      "Epoch 44: 100%|██████████| 391/391 [00:30<00:00, 12.93it/s, Loss=0.638, Accuracy=78.1]\n"
     ]
    },
    {
     "name": "stdout",
     "output_type": "stream",
     "text": [
      "Epoch 44, Validation Loss: 0.006229767090082169, Accuracy: 75.26%\n"
     ]
    },
    {
     "name": "stderr",
     "output_type": "stream",
     "text": [
      "Epoch 45: 100%|██████████| 391/391 [00:30<00:00, 12.92it/s, Loss=0.63, Accuracy=78.1] \n"
     ]
    },
    {
     "name": "stdout",
     "output_type": "stream",
     "text": [
      "Epoch 45, Validation Loss: 0.0052753635138273235, Accuracy: 77.71%\n"
     ]
    },
    {
     "name": "stderr",
     "output_type": "stream",
     "text": [
      "Epoch 46: 100%|██████████| 391/391 [00:30<00:00, 12.90it/s, Loss=0.628, Accuracy=78.4]\n"
     ]
    },
    {
     "name": "stdout",
     "output_type": "stream",
     "text": [
      "Epoch 46, Validation Loss: 0.005392873755097389, Accuracy: 77.54%\n"
     ]
    },
    {
     "name": "stderr",
     "output_type": "stream",
     "text": [
      "Epoch 47: 100%|██████████| 391/391 [00:30<00:00, 12.88it/s, Loss=0.619, Accuracy=78.4]\n"
     ]
    },
    {
     "name": "stdout",
     "output_type": "stream",
     "text": [
      "Epoch 47, Validation Loss: 0.005112288933992386, Accuracy: 78.97%\n"
     ]
    },
    {
     "name": "stderr",
     "output_type": "stream",
     "text": [
      "Epoch 48: 100%|██████████| 391/391 [00:30<00:00, 12.93it/s, Loss=0.61, Accuracy=78.9] \n"
     ]
    },
    {
     "name": "stdout",
     "output_type": "stream",
     "text": [
      "Epoch 48, Validation Loss: 0.004200443199276924, Accuracy: 82.32%\n"
     ]
    },
    {
     "name": "stderr",
     "output_type": "stream",
     "text": [
      "Epoch 49: 100%|██████████| 391/391 [00:30<00:00, 12.90it/s, Loss=0.604, Accuracy=79.2]\n"
     ]
    },
    {
     "name": "stdout",
     "output_type": "stream",
     "text": [
      "Epoch 49, Validation Loss: 0.004252043968439102, Accuracy: 82.44%\n"
     ]
    },
    {
     "name": "stderr",
     "output_type": "stream",
     "text": [
      "Epoch 50: 100%|██████████| 391/391 [00:30<00:00, 12.85it/s, Loss=0.606, Accuracy=79.1]\n"
     ]
    },
    {
     "name": "stdout",
     "output_type": "stream",
     "text": [
      "Epoch 50, Validation Loss: 0.004582905295491218, Accuracy: 80.76%\n"
     ]
    },
    {
     "name": "stderr",
     "output_type": "stream",
     "text": [
      "Epoch 51: 100%|██████████| 391/391 [00:30<00:00, 12.85it/s, Loss=0.594, Accuracy=79.4]\n"
     ]
    },
    {
     "name": "stdout",
     "output_type": "stream",
     "text": [
      "Epoch 51, Validation Loss: 0.004275591272115707, Accuracy: 81.56%\n"
     ]
    },
    {
     "name": "stderr",
     "output_type": "stream",
     "text": [
      "Epoch 52: 100%|██████████| 391/391 [00:30<00:00, 12.89it/s, Loss=0.583, Accuracy=79.7]\n"
     ]
    },
    {
     "name": "stdout",
     "output_type": "stream",
     "text": [
      "Epoch 52, Validation Loss: 0.004028249207139015, Accuracy: 82.69%\n"
     ]
    },
    {
     "name": "stderr",
     "output_type": "stream",
     "text": [
      "Epoch 53: 100%|██████████| 391/391 [00:30<00:00, 12.95it/s, Loss=0.577, Accuracy=80.1]\n"
     ]
    },
    {
     "name": "stdout",
     "output_type": "stream",
     "text": [
      "Epoch 53, Validation Loss: 0.004247324576973915, Accuracy: 82.22%\n"
     ]
    },
    {
     "name": "stderr",
     "output_type": "stream",
     "text": [
      "Epoch 54: 100%|██████████| 391/391 [00:30<00:00, 12.87it/s, Loss=0.57, Accuracy=80.4] \n"
     ]
    },
    {
     "name": "stdout",
     "output_type": "stream",
     "text": [
      "Epoch 54, Validation Loss: 0.004422564786672592, Accuracy: 81.77%\n"
     ]
    },
    {
     "name": "stderr",
     "output_type": "stream",
     "text": [
      "Epoch 55: 100%|██████████| 391/391 [00:30<00:00, 12.97it/s, Loss=0.568, Accuracy=80.6]\n"
     ]
    },
    {
     "name": "stdout",
     "output_type": "stream",
     "text": [
      "Epoch 55, Validation Loss: 0.003907086127996445, Accuracy: 83.49%\n"
     ]
    },
    {
     "name": "stderr",
     "output_type": "stream",
     "text": [
      "Epoch 56: 100%|██████████| 391/391 [00:30<00:00, 12.90it/s, Loss=0.557, Accuracy=80.9]\n"
     ]
    },
    {
     "name": "stdout",
     "output_type": "stream",
     "text": [
      "Epoch 56, Validation Loss: 0.004082796093821526, Accuracy: 82.84%\n"
     ]
    },
    {
     "name": "stderr",
     "output_type": "stream",
     "text": [
      "Epoch 57: 100%|██████████| 391/391 [00:30<00:00, 12.91it/s, Loss=0.551, Accuracy=80.9]\n"
     ]
    },
    {
     "name": "stdout",
     "output_type": "stream",
     "text": [
      "Epoch 57, Validation Loss: 0.004229054179787636, Accuracy: 82.33%\n"
     ]
    },
    {
     "name": "stderr",
     "output_type": "stream",
     "text": [
      "Epoch 58: 100%|██████████| 391/391 [00:30<00:00, 12.86it/s, Loss=0.539, Accuracy=81.3]\n"
     ]
    },
    {
     "name": "stdout",
     "output_type": "stream",
     "text": [
      "Epoch 58, Validation Loss: 0.004943236005306244, Accuracy: 79.76%\n"
     ]
    },
    {
     "name": "stderr",
     "output_type": "stream",
     "text": [
      "Epoch 59: 100%|██████████| 391/391 [00:30<00:00, 12.92it/s, Loss=0.543, Accuracy=81.2]\n"
     ]
    },
    {
     "name": "stdout",
     "output_type": "stream",
     "text": [
      "Epoch 59, Validation Loss: 0.003907341864705086, Accuracy: 83.51%\n"
     ]
    },
    {
     "name": "stderr",
     "output_type": "stream",
     "text": [
      "Epoch 60: 100%|██████████| 391/391 [00:30<00:00, 12.85it/s, Loss=0.533, Accuracy=81.5]\n"
     ]
    },
    {
     "name": "stdout",
     "output_type": "stream",
     "text": [
      "Epoch 60, Validation Loss: 0.004735128590464592, Accuracy: 80.04%\n"
     ]
    },
    {
     "name": "stderr",
     "output_type": "stream",
     "text": [
      "Epoch 61: 100%|██████████| 391/391 [00:30<00:00, 12.92it/s, Loss=0.52, Accuracy=82.1] \n"
     ]
    },
    {
     "name": "stdout",
     "output_type": "stream",
     "text": [
      "Epoch 61, Validation Loss: 0.0037574242293834685, Accuracy: 84.35%\n"
     ]
    },
    {
     "name": "stderr",
     "output_type": "stream",
     "text": [
      "Epoch 62: 100%|██████████| 391/391 [00:30<00:00, 12.92it/s, Loss=0.513, Accuracy=82.5]\n"
     ]
    },
    {
     "name": "stdout",
     "output_type": "stream",
     "text": [
      "Epoch 62, Validation Loss: 0.0033193089783191683, Accuracy: 86.02%\n"
     ]
    },
    {
     "name": "stderr",
     "output_type": "stream",
     "text": [
      "Epoch 63: 100%|██████████| 391/391 [00:30<00:00, 12.88it/s, Loss=0.509, Accuracy=82.3]\n"
     ]
    },
    {
     "name": "stdout",
     "output_type": "stream",
     "text": [
      "Epoch 63, Validation Loss: 0.004388785371184349, Accuracy: 82.43%\n"
     ]
    },
    {
     "name": "stderr",
     "output_type": "stream",
     "text": [
      "Epoch 64: 100%|██████████| 391/391 [00:30<00:00, 12.85it/s, Loss=0.498, Accuracy=82.9]\n"
     ]
    },
    {
     "name": "stdout",
     "output_type": "stream",
     "text": [
      "Epoch 64, Validation Loss: 0.0036791865706443786, Accuracy: 84.53%\n"
     ]
    },
    {
     "name": "stderr",
     "output_type": "stream",
     "text": [
      "Epoch 65: 100%|██████████| 391/391 [00:30<00:00, 12.90it/s, Loss=0.498, Accuracy=82.8]\n"
     ]
    },
    {
     "name": "stdout",
     "output_type": "stream",
     "text": [
      "Epoch 65, Validation Loss: 0.0035949399530887604, Accuracy: 84.49%\n"
     ]
    },
    {
     "name": "stderr",
     "output_type": "stream",
     "text": [
      "Epoch 66: 100%|██████████| 391/391 [00:30<00:00, 12.91it/s, Loss=0.486, Accuracy=83.2]\n"
     ]
    },
    {
     "name": "stdout",
     "output_type": "stream",
     "text": [
      "Epoch 66, Validation Loss: 0.0038938847929239273, Accuracy: 83.81%\n"
     ]
    },
    {
     "name": "stderr",
     "output_type": "stream",
     "text": [
      "Epoch 67: 100%|██████████| 391/391 [00:30<00:00, 12.90it/s, Loss=0.474, Accuracy=83.6]\n"
     ]
    },
    {
     "name": "stdout",
     "output_type": "stream",
     "text": [
      "Epoch 67, Validation Loss: 0.003678933298587799, Accuracy: 84.48%\n"
     ]
    },
    {
     "name": "stderr",
     "output_type": "stream",
     "text": [
      "Epoch 68: 100%|██████████| 391/391 [00:30<00:00, 12.88it/s, Loss=0.473, Accuracy=83.7]\n"
     ]
    },
    {
     "name": "stdout",
     "output_type": "stream",
     "text": [
      "Epoch 68, Validation Loss: 0.003118382467329502, Accuracy: 86.64%\n"
     ]
    },
    {
     "name": "stderr",
     "output_type": "stream",
     "text": [
      "Epoch 69: 100%|██████████| 391/391 [00:30<00:00, 12.88it/s, Loss=0.463, Accuracy=84.1]\n"
     ]
    },
    {
     "name": "stdout",
     "output_type": "stream",
     "text": [
      "Epoch 69, Validation Loss: 0.00355386051684618, Accuracy: 85.22%\n"
     ]
    },
    {
     "name": "stderr",
     "output_type": "stream",
     "text": [
      "Epoch 70: 100%|██████████| 391/391 [00:30<00:00, 12.86it/s, Loss=0.447, Accuracy=84.5]\n"
     ]
    },
    {
     "name": "stdout",
     "output_type": "stream",
     "text": [
      "Epoch 70, Validation Loss: 0.0035580492913722993, Accuracy: 84.82%\n"
     ]
    },
    {
     "name": "stderr",
     "output_type": "stream",
     "text": [
      "Epoch 71: 100%|██████████| 391/391 [00:30<00:00, 12.89it/s, Loss=0.437, Accuracy=85]  \n"
     ]
    },
    {
     "name": "stdout",
     "output_type": "stream",
     "text": [
      "Epoch 71, Validation Loss: 0.003234206871688366, Accuracy: 86.27%\n"
     ]
    },
    {
     "name": "stderr",
     "output_type": "stream",
     "text": [
      "Epoch 72: 100%|██████████| 391/391 [00:30<00:00, 12.90it/s, Loss=0.436, Accuracy=85]  \n"
     ]
    },
    {
     "name": "stdout",
     "output_type": "stream",
     "text": [
      "Epoch 72, Validation Loss: 0.003203353127837181, Accuracy: 86.6%\n"
     ]
    },
    {
     "name": "stderr",
     "output_type": "stream",
     "text": [
      "Epoch 73: 100%|██████████| 391/391 [00:30<00:00, 12.90it/s, Loss=0.428, Accuracy=85.2]\n"
     ]
    },
    {
     "name": "stdout",
     "output_type": "stream",
     "text": [
      "Epoch 73, Validation Loss: 0.0031739889174699784, Accuracy: 86.59%\n"
     ]
    },
    {
     "name": "stderr",
     "output_type": "stream",
     "text": [
      "Epoch 74: 100%|██████████| 391/391 [00:30<00:00, 12.91it/s, Loss=0.412, Accuracy=85.7]\n"
     ]
    },
    {
     "name": "stdout",
     "output_type": "stream",
     "text": [
      "Epoch 74, Validation Loss: 0.0031551305338740347, Accuracy: 86.92%\n"
     ]
    },
    {
     "name": "stderr",
     "output_type": "stream",
     "text": [
      "Epoch 75: 100%|██████████| 391/391 [00:30<00:00, 12.86it/s, Loss=0.399, Accuracy=86.1]\n"
     ]
    },
    {
     "name": "stdout",
     "output_type": "stream",
     "text": [
      "Epoch 75, Validation Loss: 0.0030227157950401306, Accuracy: 87.14%\n"
     ]
    },
    {
     "name": "stderr",
     "output_type": "stream",
     "text": [
      "Epoch 76: 100%|██████████| 391/391 [00:30<00:00, 12.90it/s, Loss=0.4, Accuracy=86.1]  \n"
     ]
    },
    {
     "name": "stdout",
     "output_type": "stream",
     "text": [
      "Epoch 76, Validation Loss: 0.0030982051104307177, Accuracy: 87.02%\n"
     ]
    },
    {
     "name": "stderr",
     "output_type": "stream",
     "text": [
      "Epoch 77: 100%|██████████| 391/391 [00:30<00:00, 12.90it/s, Loss=0.388, Accuracy=86.6]\n"
     ]
    },
    {
     "name": "stdout",
     "output_type": "stream",
     "text": [
      "Epoch 77, Validation Loss: 0.002986284963786602, Accuracy: 87.35%\n"
     ]
    },
    {
     "name": "stderr",
     "output_type": "stream",
     "text": [
      "Epoch 78: 100%|██████████| 391/391 [00:30<00:00, 12.87it/s, Loss=0.377, Accuracy=86.9]\n"
     ]
    },
    {
     "name": "stdout",
     "output_type": "stream",
     "text": [
      "Epoch 78, Validation Loss: 0.002767150607705116, Accuracy: 88.39%\n"
     ]
    },
    {
     "name": "stderr",
     "output_type": "stream",
     "text": [
      "Epoch 79: 100%|██████████| 391/391 [00:30<00:00, 12.82it/s, Loss=0.369, Accuracy=87.2]\n"
     ]
    },
    {
     "name": "stdout",
     "output_type": "stream",
     "text": [
      "Epoch 79, Validation Loss: 0.0028092765867710114, Accuracy: 88.33%\n"
     ]
    },
    {
     "name": "stderr",
     "output_type": "stream",
     "text": [
      "Epoch 80: 100%|██████████| 391/391 [00:30<00:00, 12.84it/s, Loss=0.361, Accuracy=87.5]\n"
     ]
    },
    {
     "name": "stdout",
     "output_type": "stream",
     "text": [
      "Epoch 80, Validation Loss: 0.002663697200268507, Accuracy: 88.71%\n"
     ]
    },
    {
     "name": "stderr",
     "output_type": "stream",
     "text": [
      "Epoch 81: 100%|██████████| 391/391 [00:30<00:00, 12.87it/s, Loss=0.35, Accuracy=87.9] \n"
     ]
    },
    {
     "name": "stdout",
     "output_type": "stream",
     "text": [
      "Epoch 81, Validation Loss: 0.0026347056955099107, Accuracy: 88.93%\n"
     ]
    },
    {
     "name": "stderr",
     "output_type": "stream",
     "text": [
      "Epoch 82: 100%|██████████| 391/391 [00:30<00:00, 12.82it/s, Loss=0.337, Accuracy=88.5]\n"
     ]
    },
    {
     "name": "stdout",
     "output_type": "stream",
     "text": [
      "Epoch 82, Validation Loss: 0.0026631874769926073, Accuracy: 88.99%\n"
     ]
    },
    {
     "name": "stderr",
     "output_type": "stream",
     "text": [
      "Epoch 83: 100%|██████████| 391/391 [00:30<00:00, 12.89it/s, Loss=0.333, Accuracy=88.4]\n"
     ]
    },
    {
     "name": "stdout",
     "output_type": "stream",
     "text": [
      "Epoch 83, Validation Loss: 0.002568231353163719, Accuracy: 89.5%\n"
     ]
    },
    {
     "name": "stderr",
     "output_type": "stream",
     "text": [
      "Epoch 84: 100%|██████████| 391/391 [00:30<00:00, 12.85it/s, Loss=0.321, Accuracy=89]  \n"
     ]
    },
    {
     "name": "stdout",
     "output_type": "stream",
     "text": [
      "Epoch 84, Validation Loss: 0.002337557406723499, Accuracy: 89.92%\n"
     ]
    },
    {
     "name": "stderr",
     "output_type": "stream",
     "text": [
      "Epoch 85: 100%|██████████| 391/391 [00:30<00:00, 12.91it/s, Loss=0.318, Accuracy=88.9]\n"
     ]
    },
    {
     "name": "stdout",
     "output_type": "stream",
     "text": [
      "Epoch 85, Validation Loss: 0.0024512444123625755, Accuracy: 89.59%\n"
     ]
    },
    {
     "name": "stderr",
     "output_type": "stream",
     "text": [
      "Epoch 86: 100%|██████████| 391/391 [00:30<00:00, 12.92it/s, Loss=0.304, Accuracy=89.4]\n"
     ]
    },
    {
     "name": "stdout",
     "output_type": "stream",
     "text": [
      "Epoch 86, Validation Loss: 0.002302789957076311, Accuracy: 90.3%\n"
     ]
    },
    {
     "name": "stderr",
     "output_type": "stream",
     "text": [
      "Epoch 87: 100%|██████████| 391/391 [00:30<00:00, 12.90it/s, Loss=0.293, Accuracy=89.9]\n"
     ]
    },
    {
     "name": "stdout",
     "output_type": "stream",
     "text": [
      "Epoch 87, Validation Loss: 0.0022931343466043473, Accuracy: 90.47%\n"
     ]
    },
    {
     "name": "stderr",
     "output_type": "stream",
     "text": [
      "Epoch 88: 100%|██████████| 391/391 [00:30<00:00, 12.88it/s, Loss=0.286, Accuracy=90.1]\n"
     ]
    },
    {
     "name": "stdout",
     "output_type": "stream",
     "text": [
      "Epoch 88, Validation Loss: 0.0023017627432942393, Accuracy: 90.5%\n"
     ]
    },
    {
     "name": "stderr",
     "output_type": "stream",
     "text": [
      "Epoch 89: 100%|██████████| 391/391 [00:30<00:00, 12.90it/s, Loss=0.279, Accuracy=90.3]\n"
     ]
    },
    {
     "name": "stdout",
     "output_type": "stream",
     "text": [
      "Epoch 89, Validation Loss: 0.0022242696598172187, Accuracy: 90.9%\n"
     ]
    },
    {
     "name": "stderr",
     "output_type": "stream",
     "text": [
      "Epoch 90: 100%|██████████| 391/391 [00:30<00:00, 12.87it/s, Loss=0.271, Accuracy=90.5]\n"
     ]
    },
    {
     "name": "stdout",
     "output_type": "stream",
     "text": [
      "Epoch 90, Validation Loss: 0.002176103051006794, Accuracy: 90.98%\n"
     ]
    },
    {
     "name": "stderr",
     "output_type": "stream",
     "text": [
      "Epoch 91: 100%|██████████| 391/391 [00:30<00:00, 12.89it/s, Loss=0.26, Accuracy=91]   \n"
     ]
    },
    {
     "name": "stdout",
     "output_type": "stream",
     "text": [
      "Epoch 91, Validation Loss: 0.0020932704649865626, Accuracy: 91.13%\n"
     ]
    },
    {
     "name": "stderr",
     "output_type": "stream",
     "text": [
      "Epoch 92: 100%|██████████| 391/391 [00:30<00:00, 12.87it/s, Loss=0.257, Accuracy=91.1]\n"
     ]
    },
    {
     "name": "stdout",
     "output_type": "stream",
     "text": [
      "Epoch 92, Validation Loss: 0.0020941466152668, Accuracy: 91.19%\n"
     ]
    },
    {
     "name": "stderr",
     "output_type": "stream",
     "text": [
      "Epoch 93: 100%|██████████| 391/391 [00:30<00:00, 12.92it/s, Loss=0.249, Accuracy=91.4]\n"
     ]
    },
    {
     "name": "stdout",
     "output_type": "stream",
     "text": [
      "Epoch 93, Validation Loss: 0.002130064119398594, Accuracy: 91.3%\n"
     ]
    },
    {
     "name": "stderr",
     "output_type": "stream",
     "text": [
      "Epoch 94: 100%|██████████| 391/391 [00:30<00:00, 12.89it/s, Loss=0.247, Accuracy=91.3]\n"
     ]
    },
    {
     "name": "stdout",
     "output_type": "stream",
     "text": [
      "Epoch 94, Validation Loss: 0.002074956476688385, Accuracy: 91.37%\n"
     ]
    },
    {
     "name": "stderr",
     "output_type": "stream",
     "text": [
      "Epoch 95: 100%|██████████| 391/391 [00:30<00:00, 12.88it/s, Loss=0.239, Accuracy=91.7]\n"
     ]
    },
    {
     "name": "stdout",
     "output_type": "stream",
     "text": [
      "Epoch 95, Validation Loss: 0.0020440831676125527, Accuracy: 91.63%\n"
     ]
    },
    {
     "name": "stderr",
     "output_type": "stream",
     "text": [
      "Epoch 96: 100%|██████████| 391/391 [00:30<00:00, 12.82it/s, Loss=0.237, Accuracy=91.9]\n"
     ]
    },
    {
     "name": "stdout",
     "output_type": "stream",
     "text": [
      "Epoch 96, Validation Loss: 0.0020796706423163412, Accuracy: 91.35%\n"
     ]
    },
    {
     "name": "stderr",
     "output_type": "stream",
     "text": [
      "Epoch 97: 100%|██████████| 391/391 [00:30<00:00, 12.94it/s, Loss=0.234, Accuracy=91.9]\n"
     ]
    },
    {
     "name": "stdout",
     "output_type": "stream",
     "text": [
      "Epoch 97, Validation Loss: 0.002053239314258099, Accuracy: 91.56%\n"
     ]
    },
    {
     "name": "stderr",
     "output_type": "stream",
     "text": [
      "Epoch 98: 100%|██████████| 391/391 [00:30<00:00, 12.86it/s, Loss=0.235, Accuracy=91.9]\n"
     ]
    },
    {
     "name": "stdout",
     "output_type": "stream",
     "text": [
      "Epoch 98, Validation Loss: 0.0020148021563887596, Accuracy: 91.7%\n"
     ]
    },
    {
     "name": "stderr",
     "output_type": "stream",
     "text": [
      "Epoch 99: 100%|██████████| 391/391 [00:30<00:00, 12.92it/s, Loss=0.231, Accuracy=92.1]\n"
     ]
    },
    {
     "name": "stdout",
     "output_type": "stream",
     "text": [
      "Epoch 99, Validation Loss: 0.0020270916163921356, Accuracy: 91.72%\n"
     ]
    },
    {
     "name": "stderr",
     "output_type": "stream",
     "text": [
      "Epoch 100: 100%|██████████| 391/391 [00:30<00:00, 12.90it/s, Loss=0.231, Accuracy=91.9]\n"
     ]
    },
    {
     "name": "stdout",
     "output_type": "stream",
     "text": [
      "Epoch 100, Validation Loss: 0.0020555901199579237, Accuracy: 91.52%\n",
      "Finished Training\n"
     ]
    }
   ],
   "source": [
    "# Loss function and optimizer\n",
    "criterion = nn.CrossEntropyLoss()\n",
    "optimizer = optim.SGD(net.parameters(), lr=0.1, momentum=0.9, weight_decay=5e-4)\n",
    "\n",
    "# Cosine Annealing Learning Rate scheduler\n",
    "scheduler = CosineAnnealingLR(optimizer, T_max=100, eta_min=0)\n",
    "\n",
    "# Early stopping criteria\n",
    "best_val_loss = np.inf\n",
    "patience = 15  # Number of epochs to wait before early stopping\n",
    "counter = 0\n",
    "\n",
    "train_losses = []\n",
    "train_accuracies = []\n",
    "val_losses = []\n",
    "val_accuracies = []\n",
    "\n",
    "# Training the model\n",
    "epochs = 100\n",
    "print(\"Start training...\")\n",
    "for epoch in arange(epochs):\n",
    "    net.train()\n",
    "    running_loss = 0.0\n",
    "    correct = 0\n",
    "    total = 0\n",
    "    with tqdm(total=len(trainloader)) as pbar:\n",
    "        for i, data in enumerate(trainloader, 0):\n",
    "            inputs, labels = data[0].to(device), data[1].to(device)\n",
    "\n",
    "            optimizer.zero_grad()\n",
    "\n",
    "            outputs = net(inputs)\n",
    "            loss = criterion(outputs, labels)\n",
    "            loss.backward()\n",
    "            optimizer.step()\n",
    "\n",
    "            running_loss += loss.item()\n",
    "            _, predicted = outputs.max(1)\n",
    "            total += labels.size(0)\n",
    "            correct += predicted.eq(labels).sum().item()\n",
    "\n",
    "            pbar.set_description(f'Epoch {epoch+1}')\n",
    "            pbar.set_postfix({'Loss': running_loss / (i+1), 'Accuracy': 100. * correct / total})\n",
    "            pbar.update(1)\n",
    "\n",
    "    # Validate the model\n",
    "    net.eval()\n",
    "    val_loss = 0.0\n",
    "    correct = 0\n",
    "    total = 0\n",
    "    with torch.no_grad():\n",
    "        for data in testloader:\n",
    "            inputs, labels = data[0].to(device), data[1].to(device)\n",
    "            outputs = net(inputs)\n",
    "            loss = criterion(outputs, labels)\n",
    "            val_loss += loss.item()\n",
    "            _, predicted = outputs.max(1)\n",
    "            total += labels.size(0)\n",
    "            correct += predicted.eq(labels).sum().item()\n",
    "\n",
    "    val_loss /= len(testloader.dataset)\n",
    "    print(f'Epoch {epoch + 1}, Validation Loss: {val_loss}, Accuracy: {100 * correct / total}%')\n",
    "\n",
    "    # Update learning rate scheduler\n",
    "    scheduler.step()\n",
    "\n",
    "    # Check for early stopping\n",
    "    if val_loss < best_val_loss:\n",
    "        best_val_loss = val_loss\n",
    "        counter = 0\n",
    "    else:\n",
    "        counter += 1\n",
    "        if counter >= patience:\n",
    "            print(\"Early stopping...\")\n",
    "            break\n",
    "\n",
    "    # Save metrics for plotting\n",
    "    train_losses.append(running_loss / len(trainloader))\n",
    "    train_accuracies.append(100. * correct / total)\n",
    "    val_losses.append(val_loss)\n",
    "    val_accuracies.append(100. * correct / total)\n",
    "\n",
    "print('Finished Training')\n",
    "\n"
   ]
  },
  {
   "cell_type": "code",
   "execution_count": 9,
   "id": "ff596f03-0569-47ad-ad30-70c248b1fa01",
   "metadata": {},
   "outputs": [
    {
     "data": {
      "image/png": "[encoded data removed]",
      "text/plain": [
       "<Figure size 500x500 with 1 Axes>"
      ]
     },
     "metadata": {},
     "output_type": "display_data"
    }
   ],
   "source": [
    "# Plot train and test accuracy\n",
    "plt.figure(figsize=(5, 5))\n",
    "# plt.plot(train_accuracies, label='Train Accuracy')\n",
    "plt.plot(val_accuracies, label='Test Accuracy')\n",
    "plt.xlabel('Epoch')\n",
    "plt.ylabel('Accuracy (%)')\n",
    "plt.title('Test Accuracy Curve')\n",
    "plt.legend()\n",
    "plt.grid(True)\n",
    "plt.show()\n",
    "\n"
   ]
  },
  {
   "cell_type": "code",
   "execution_count": 10,
   "id": "e44d8484-9c01-4b13-ad95-ae8770f1ea9e",
   "metadata": {},
   "outputs": [
    {
     "data": {
      "image/png": "[encoded data removed]",
      "text/plain": [
       "<Figure size 500x500 with 1 Axes>"
      ]
     },
     "metadata": {},
     "output_type": "display_data"
    }
   ],
   "source": [
    "# Plot train and test loss\n",
    "plt.figure(figsize=(5, 5))\n",
    "plt.plot(train_losses, label='Train Loss')\n",
    "plt.plot([loss * 100 for loss in val_losses], label='Test Loss')\n",
    "plt.xlabel('Epoch')\n",
    "plt.ylabel('Loss')\n",
    "plt.title('Train and Test Loss')\n",
    "plt.legend()\n",
    "plt.grid(True)\n",
    "plt.show()"
   ]
  },
  {
   "cell_type": "code",
   "execution_count": 13,
   "id": "41343212-e75f-4c42-b79d-0e433aff6559",
   "metadata": {},
   "outputs": [],
   "source": [
    "torch.save(net.state_dict(), 'ResNet_modified')"
   ]
  },
  {
   "cell_type": "code",
   "execution_count": 14,
   "id": "e301673a-2ae5-48b3-87b6-bcdc71b5b6a7",
   "metadata": {},
   "outputs": [],
   "source": [
    "def unpickle(file):\n",
    "    import pickle\n",
    "    with open(file, 'rb') as fo:\n",
    "        dict = pickle.load(fo, encoding='bytes')\n",
    "    return dict"
   ]
  },
  {
   "cell_type": "code",
   "execution_count": 15,
   "id": "791f781a-23f0-4083-834e-674a219ed58c",
   "metadata": {},
   "outputs": [],
   "source": [
    "testdata = unpickle('cifar_test_nolabels.pkl')"
   ]
  },
  {
   "cell_type": "code",
   "execution_count": 16,
   "id": "40a65476-e506-4d9c-8ee7-095ac81a8918",
   "metadata": {},
   "outputs": [],
   "source": [
    "# Define the dataset class for custom test dataset\n",
    "class CustomTestDataset(Dataset):\n",
    "    def __init__(self, data_file, transform=None):\n",
    "        with open(data_file, 'rb') as f:\n",
    "            data = pickle.load(f, encoding='bytes')\n",
    "        self.images = data[b'data']\n",
    "        self.transform = transform\n",
    "\n",
    "    def __len__(self):\n",
    "        return len(self.images)\n",
    "\n",
    "    def __getitem__(self, idx):\n",
    "        image = self.images[idx].reshape(3, 32, 32).transpose(1, 2, 0)  # Reshape image\n",
    "        if self.transform:\n",
    "            image = self.transform(image)\n",
    "        return idx, image\n",
    "\n",
    "# Define the transformations similar to CIFAR-10\n",
    "transform_test_custom = transforms.Compose([\n",
    "    transforms.ToPILImage(),\n",
    "    transforms.ToTensor(),\n",
    "    transforms.Normalize((0.4914, 0.4822, 0.4465), (0.2023, 0.1994, 0.2010)),\n",
    "])\n",
    "device = torch.device('cuda' if torch.cuda.is_available() else 'cpu')\n",
    "\n"
   ]
  },
  {
   "cell_type": "code",
   "execution_count": 17,
   "id": "ec436114-f33f-4713-8656-dabab6b2dd35",
   "metadata": {},
   "outputs": [],
   "source": [
    "# custom_testset = CustomTestDataset(testdata, transform=transform_test_custom)\n",
    "# print( len(custom_testset))"
   ]
  },
  {
   "cell_type": "code",
   "execution_count": 18,
   "id": "63cff93d-3b82-4d87-99c0-769c00b23b02",
   "metadata": {},
   "outputs": [
    {
     "data": {
      "image/png": "[encoded data removed]",
      "text/plain": [
       "<Figure size 1500x1500 with 25 Axes>"
      ]
     },
     "metadata": {},
     "output_type": "display_data"
    }
   ],
   "source": [
    "def visualize_dataset(dataset, num_images=25, num_cols=5, image_size=(3, 32, 32), figsize=(15, 15)):\n",
    "    data = dataset[b'data']\n",
    "    num_rows = num_images // num_cols\n",
    "    fig, axes = plt.subplots(num_rows, num_cols, figsize=figsize)\n",
    "\n",
    "    for i in arange(num_images):\n",
    "        row = i // num_cols\n",
    "        col = i % num_cols\n",
    "        img = data[i].reshape(*image_size)  # Reshape image data\n",
    "        img = np.transpose(img, (1, 2, 0))  # Convert from (channel, height, width) to (height, width, channel)\n",
    "        axes[row, col].imshow(img)\n",
    "        axes[row, col].axis('off')\n",
    "\n",
    "    plt.subplots_adjust(wspace=0.1, hspace=0.1)\n",
    "    plt.show()\n",
    "\n",
    "# Assuming 'testdata' is the test dataset dictionary\n",
    "visualize_dataset(testdata, num_images=25, num_cols=5, figsize=(15, 15))\n"
   ]
  },
  {
   "cell_type": "code",
   "execution_count": 19,
   "id": "4d3de97d-f3f8-4b4b-8057-f74dac073067",
   "metadata": {},
   "outputs": [],
   "source": [
    "# Load the model\n",
    "# model = models.resnet18(pretrained=False)  # Assuming you trained your model similar to ResNet-18\n",
    "# # Load the trained weights\n",
    "# model.load_state_dict(torch.load('path_to_your_trained_model.pth'))\n",
    "net.eval()\n",
    "net = net.to(device)\n",
    "# images.to(device)\n",
    "\n",
    "# Load custom test dataset\n",
    "custom_test_dataset = CustomTestDataset('cifar_test_nolabels.pkl', transform=transform_test_custom)\n",
    "testloader_custom = DataLoader(custom_test_dataset, batch_size=100, shuffle=False, num_workers=16)\n",
    "\n",
    "# Make predictions\n",
    "predictions = []\n",
    "with torch.no_grad():\n",
    "    for idx, images in testloader_custom:\n",
    "        images = images.to(device)\n",
    "        outputs = net(images)\n",
    "        _, predicted = torch.max(outputs, 1)\n",
    "        predictions.extend(predicted.cpu().tolist())\n",
    "\n",
    "# Generate CSV file with IDs and labels\n",
    "with open('predictions_modified.csv', 'w') as f:\n",
    "    f.write('ID,Labels\\n')\n",
    "    for idx, label in enumerate(predictions):\n",
    "        f.write(f'{idx},{label}\\n')"
   ]
  },
  {
   "cell_type": "code",
   "execution_count": null,
   "id": "4d7096ed-b5a9-49dd-81d9-6d6a3be4885e",
   "metadata": {},
   "outputs": [],
   "source": []
  },
  {
   "cell_type": "code",
   "execution_count": null,
   "id": "7d23731f-0d54-47a6-9e08-672d8691a0e3",
   "metadata": {},
   "outputs": [],
   "source": []
  }
 ],
 "metadata": {
  "kernelspec": {
   "display_name": "my_env",
   "language": "python",
   "name": "my_env"
  },
  "language_info": {
   "codemirror_mode": {
    "name": "ipython",
    "version": 3
   },
   "file_extension": ".py",
   "mimetype": "text/x-python",
   "name": "python",
   "nbconvert_exporter": "python",
   "pygments_lexer": "ipython3",
   "version": "3.12.1"
  }
 },
 "nbformat": 4,
 "nbformat_minor": 5
}
